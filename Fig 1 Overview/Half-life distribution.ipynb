{
 "cells": [
  {
   "cell_type": "code",
   "execution_count": 1,
   "id": "suitable-venezuela",
   "metadata": {},
   "outputs": [],
   "source": [
    "import pandas as pd\n",
    "import numpy as np\n",
    "import matplotlib.pyplot as plt\n",
    "import seaborn as sns\n",
    "\n",
    "%matplotlib inline"
   ]
  },
  {
   "cell_type": "code",
   "execution_count": 2,
   "id": "disturbed-recipient",
   "metadata": {},
   "outputs": [],
   "source": [
    "df1 = pd.read_csv('../Lung/output_7/peptide_fit.csv', index_col=0)\n",
    "df2 = pd.read_csv('../Heart/Output_7/peptide_fit.csv', index_col=0)\n",
    "df3 = pd.read_csv('../Brain/Output_7/peptide_fit.csv', index_col=0)"
   ]
  },
  {
   "cell_type": "code",
   "execution_count": 3,
   "id": "apparent-edmonton",
   "metadata": {},
   "outputs": [
    {
     "data": {
      "text/html": [
       "<div>\n",
       "<style scoped>\n",
       "    .dataframe tbody tr th:only-of-type {\n",
       "        vertical-align: middle;\n",
       "    }\n",
       "\n",
       "    .dataframe tbody tr th {\n",
       "        vertical-align: top;\n",
       "    }\n",
       "\n",
       "    .dataframe thead th {\n",
       "        text-align: right;\n",
       "    }\n",
       "</style>\n",
       "<table border=\"1\" class=\"dataframe\">\n",
       "  <thead>\n",
       "    <tr style=\"text-align: right;\">\n",
       "      <th></th>\n",
       "      <th>Protein.Group</th>\n",
       "      <th>Genes</th>\n",
       "      <th>Oxygen</th>\n",
       "      <th>Kd</th>\n",
       "      <th>Kd_pvalue</th>\n",
       "      <th>Half_life</th>\n",
       "    </tr>\n",
       "  </thead>\n",
       "  <tbody>\n",
       "    <tr>\n",
       "      <th>1</th>\n",
       "      <td>A1L314</td>\n",
       "      <td>MPEG1_MOUSE</td>\n",
       "      <td>60</td>\n",
       "      <td>0.447892</td>\n",
       "      <td>1.658343e-03</td>\n",
       "      <td>1.547576</td>\n",
       "    </tr>\n",
       "    <tr>\n",
       "      <th>2</th>\n",
       "      <td>A2A432</td>\n",
       "      <td>CUL4B_MOUSE</td>\n",
       "      <td>8</td>\n",
       "      <td>0.334051</td>\n",
       "      <td>7.405288e-50</td>\n",
       "      <td>2.074973</td>\n",
       "    </tr>\n",
       "    <tr>\n",
       "      <th>3</th>\n",
       "      <td>A2A432</td>\n",
       "      <td>CUL4B_MOUSE</td>\n",
       "      <td>21</td>\n",
       "      <td>0.276092</td>\n",
       "      <td>1.210739e-26</td>\n",
       "      <td>2.510568</td>\n",
       "    </tr>\n",
       "    <tr>\n",
       "      <th>4</th>\n",
       "      <td>A2A432</td>\n",
       "      <td>CUL4B_MOUSE</td>\n",
       "      <td>60</td>\n",
       "      <td>0.220124</td>\n",
       "      <td>2.687016e-11</td>\n",
       "      <td>3.148889</td>\n",
       "    </tr>\n",
       "    <tr>\n",
       "      <th>5</th>\n",
       "      <td>A2A4P0</td>\n",
       "      <td>DHX8_MOUSE</td>\n",
       "      <td>8</td>\n",
       "      <td>0.052059</td>\n",
       "      <td>2.433770e-07</td>\n",
       "      <td>13.314577</td>\n",
       "    </tr>\n",
       "  </tbody>\n",
       "</table>\n",
       "</div>"
      ],
      "text/plain": [
       "  Protein.Group        Genes  Oxygen        Kd     Kd_pvalue  Half_life\n",
       "1        A1L314  MPEG1_MOUSE      60  0.447892  1.658343e-03   1.547576\n",
       "2        A2A432  CUL4B_MOUSE       8  0.334051  7.405288e-50   2.074973\n",
       "3        A2A432  CUL4B_MOUSE      21  0.276092  1.210739e-26   2.510568\n",
       "4        A2A432  CUL4B_MOUSE      60  0.220124  2.687016e-11   3.148889\n",
       "5        A2A4P0   DHX8_MOUSE       8  0.052059  2.433770e-07  13.314577"
      ]
     },
     "execution_count": 3,
     "metadata": {},
     "output_type": "execute_result"
    }
   ],
   "source": [
    "df1.head()"
   ]
  },
  {
   "cell_type": "code",
   "execution_count": 4,
   "id": "seventh-discount",
   "metadata": {},
   "outputs": [],
   "source": [
    "df1['Oxygen'] = df1['Oxygen'].astype(str)\n",
    "df2['Oxygen'] = df2['Oxygen'].astype(str)\n",
    "df3['Oxygen'] = df3['Oxygen'].astype(str)"
   ]
  },
  {
   "cell_type": "code",
   "execution_count": 5,
   "id": "exterior-domain",
   "metadata": {},
   "outputs": [],
   "source": [
    "subdf = df1[df1.Oxygen == '8']"
   ]
  },
  {
   "cell_type": "code",
   "execution_count": 6,
   "id": "loaded-klein",
   "metadata": {},
   "outputs": [
    {
     "name": "stdout",
     "output_type": "stream",
     "text": [
      "1006\n",
      "1214\n",
      "1027\n",
      "353\n",
      "26\n",
      "2\n"
     ]
    }
   ],
   "source": [
    "print(subdf[subdf.Half_life <2].shape[0] )\n",
    "print(subdf[subdf.Half_life <4].shape[0] -subdf[subdf.Half_life <2].shape[0] )\n",
    "print(subdf[subdf.Half_life <8].shape[0] -subdf[subdf.Half_life <4].shape[0] )\n",
    "print(subdf[subdf.Half_life <16].shape[0] -subdf[subdf.Half_life <8].shape[0] )\n",
    "print(subdf[subdf.Half_life <32].shape[0] -subdf[subdf.Half_life <16].shape[0] )\n",
    "print(subdf[subdf.Half_life >=32].shape[0])"
   ]
  },
  {
   "cell_type": "code",
   "execution_count": null,
   "id": "ae66d8cc",
   "metadata": {},
   "outputs": [],
   "source": []
  },
  {
   "cell_type": "markdown",
   "id": "6e1c7daa",
   "metadata": {},
   "source": [
    "## KS statistics"
   ]
  },
  {
   "cell_type": "code",
   "execution_count": 7,
   "id": "750d7626",
   "metadata": {},
   "outputs": [],
   "source": [
    "from scipy import stats"
   ]
  },
  {
   "cell_type": "code",
   "execution_count": 8,
   "id": "83c68c08",
   "metadata": {},
   "outputs": [
    {
     "name": "stdout",
     "output_type": "stream",
     "text": [
      "KstestResult(statistic=0.09756146032426305, pvalue=1.4654943925052066e-14)\n",
      "KstestResult(statistic=0.08740960024312962, pvalue=2.6447177781108167e-11)\n"
     ]
    }
   ],
   "source": [
    "print(stats.ks_2samp(df1.loc[df1.Oxygen == '8','Half_life'],df1.loc[df1.Oxygen == '21','Half_life']))\n",
    "print(stats.ks_2samp(df1.loc[df1.Oxygen == '60','Half_life'],df1.loc[df1.Oxygen == '21','Half_life']))"
   ]
  },
  {
   "cell_type": "code",
   "execution_count": 10,
   "id": "d6620ab7",
   "metadata": {},
   "outputs": [
    {
     "name": "stdout",
     "output_type": "stream",
     "text": [
      "KstestResult(statistic=0.048263283269478256, pvalue=0.014948451948693653)\n",
      "KstestResult(statistic=0.038830864837083846, pvalue=0.0978279485176643)\n"
     ]
    }
   ],
   "source": [
    "print(stats.ks_2samp(df2.loc[df2.Oxygen == '8','Half_life'],df2.loc[df2.Oxygen == '21','Half_life']))\n",
    "print(stats.ks_2samp(df2.loc[df2.Oxygen == '60','Half_life'],df2.loc[df2.Oxygen == '21','Half_life']))"
   ]
  },
  {
   "cell_type": "code",
   "execution_count": 11,
   "id": "540355c9",
   "metadata": {},
   "outputs": [
    {
     "name": "stdout",
     "output_type": "stream",
     "text": [
      "KstestResult(statistic=0.04640407775204013, pvalue=0.001474638391248062)\n",
      "KstestResult(statistic=0.04642355752254723, pvalue=0.0022449379035213157)\n"
     ]
    }
   ],
   "source": [
    "print(stats.ks_2samp(df3.loc[df3.Oxygen == '8','Half_life'],df3.loc[df3.Oxygen == '21','Half_life']))\n",
    "print(stats.ks_2samp(df3.loc[df3.Oxygen == '60','Half_life'],df3.loc[df3.Oxygen == '21','Half_life']))"
   ]
  }
 ],
 "metadata": {
  "kernelspec": {
   "display_name": "Python 3",
   "language": "python",
   "name": "python3"
  },
  "language_info": {
   "codemirror_mode": {
    "name": "ipython",
    "version": 3
   },
   "file_extension": ".py",
   "mimetype": "text/x-python",
   "name": "python",
   "nbconvert_exporter": "python",
   "pygments_lexer": "ipython3",
   "version": "3.8.5"
  }
 },
 "nbformat": 4,
 "nbformat_minor": 5
}
