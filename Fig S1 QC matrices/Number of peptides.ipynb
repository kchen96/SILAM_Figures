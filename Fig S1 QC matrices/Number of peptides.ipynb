{
 "cells": [
  {
   "cell_type": "code",
   "execution_count": 1,
   "id": "terminal-substitute",
   "metadata": {},
   "outputs": [],
   "source": [
    "import pandas as pd\n",
    "import numpy as np"
   ]
  },
  {
   "cell_type": "code",
   "execution_count": 45,
   "id": "studied-conclusion",
   "metadata": {},
   "outputs": [],
   "source": [
    "df = pd.read_csv('../Lung/Output_7/peptide_level_filtered.csv')"
   ]
  },
  {
   "cell_type": "code",
   "execution_count": 46,
   "id": "understood-compensation",
   "metadata": {},
   "outputs": [],
   "source": [
    "df = df[['Protein.Group','Modified.Sequence','Oxygen']].drop_duplicates()"
   ]
  },
  {
   "cell_type": "code",
   "execution_count": 47,
   "id": "quarterly-slave",
   "metadata": {},
   "outputs": [
    {
     "data": {
      "text/plain": [
       "(36294, 3)"
      ]
     },
     "execution_count": 47,
     "metadata": {},
     "output_type": "execute_result"
    }
   ],
   "source": [
    "df.shape"
   ]
  },
  {
   "cell_type": "code",
   "execution_count": 48,
   "id": "recorded-dairy",
   "metadata": {},
   "outputs": [],
   "source": [
    "df2 = pd.read_csv('../Lung/Output_7/peptide_fit.csv', index_col=0)"
   ]
  },
  {
   "cell_type": "code",
   "execution_count": 49,
   "id": "proper-ottawa",
   "metadata": {},
   "outputs": [
    {
     "data": {
      "text/html": [
       "<div>\n",
       "<style scoped>\n",
       "    .dataframe tbody tr th:only-of-type {\n",
       "        vertical-align: middle;\n",
       "    }\n",
       "\n",
       "    .dataframe tbody tr th {\n",
       "        vertical-align: top;\n",
       "    }\n",
       "\n",
       "    .dataframe thead th {\n",
       "        text-align: right;\n",
       "    }\n",
       "</style>\n",
       "<table border=\"1\" class=\"dataframe\">\n",
       "  <thead>\n",
       "    <tr style=\"text-align: right;\">\n",
       "      <th></th>\n",
       "      <th>Protein.Group</th>\n",
       "      <th>Genes</th>\n",
       "      <th>Oxygen</th>\n",
       "      <th>Kd</th>\n",
       "      <th>Kd_pvalue</th>\n",
       "      <th>Half_life</th>\n",
       "    </tr>\n",
       "  </thead>\n",
       "  <tbody>\n",
       "    <tr>\n",
       "      <th>1</th>\n",
       "      <td>A1L314</td>\n",
       "      <td>MPEG1_MOUSE</td>\n",
       "      <td>60</td>\n",
       "      <td>0.447892</td>\n",
       "      <td>1.658343e-03</td>\n",
       "      <td>1.547576</td>\n",
       "    </tr>\n",
       "    <tr>\n",
       "      <th>2</th>\n",
       "      <td>A2A432</td>\n",
       "      <td>CUL4B_MOUSE</td>\n",
       "      <td>8</td>\n",
       "      <td>0.334051</td>\n",
       "      <td>7.405288e-50</td>\n",
       "      <td>2.074973</td>\n",
       "    </tr>\n",
       "    <tr>\n",
       "      <th>3</th>\n",
       "      <td>A2A432</td>\n",
       "      <td>CUL4B_MOUSE</td>\n",
       "      <td>21</td>\n",
       "      <td>0.276092</td>\n",
       "      <td>1.210739e-26</td>\n",
       "      <td>2.510568</td>\n",
       "    </tr>\n",
       "    <tr>\n",
       "      <th>4</th>\n",
       "      <td>A2A432</td>\n",
       "      <td>CUL4B_MOUSE</td>\n",
       "      <td>60</td>\n",
       "      <td>0.220124</td>\n",
       "      <td>2.687016e-11</td>\n",
       "      <td>3.148889</td>\n",
       "    </tr>\n",
       "    <tr>\n",
       "      <th>5</th>\n",
       "      <td>A2A4P0</td>\n",
       "      <td>DHX8_MOUSE</td>\n",
       "      <td>8</td>\n",
       "      <td>0.052059</td>\n",
       "      <td>2.433770e-07</td>\n",
       "      <td>13.314577</td>\n",
       "    </tr>\n",
       "  </tbody>\n",
       "</table>\n",
       "</div>"
      ],
      "text/plain": [
       "  Protein.Group        Genes  Oxygen        Kd     Kd_pvalue  Half_life\n",
       "1        A1L314  MPEG1_MOUSE      60  0.447892  1.658343e-03   1.547576\n",
       "2        A2A432  CUL4B_MOUSE       8  0.334051  7.405288e-50   2.074973\n",
       "3        A2A432  CUL4B_MOUSE      21  0.276092  1.210739e-26   2.510568\n",
       "4        A2A432  CUL4B_MOUSE      60  0.220124  2.687016e-11   3.148889\n",
       "5        A2A4P0   DHX8_MOUSE       8  0.052059  2.433770e-07  13.314577"
      ]
     },
     "execution_count": 49,
     "metadata": {},
     "output_type": "execute_result"
    }
   ],
   "source": [
    "df2.head()"
   ]
  },
  {
   "cell_type": "code",
   "execution_count": 50,
   "id": "noble-rental",
   "metadata": {},
   "outputs": [],
   "source": [
    "df_sub = df[[i in df2['Protein.Group'].values for i in df['Protein.Group'].values]]"
   ]
  },
  {
   "cell_type": "code",
   "execution_count": 51,
   "id": "eastern-excitement",
   "metadata": {},
   "outputs": [],
   "source": [
    "df_sub_clp = df_sub[['Protein.Group','Modified.Sequence']].drop_duplicates()"
   ]
  },
  {
   "cell_type": "code",
   "execution_count": 52,
   "id": "apparent-basement",
   "metadata": {},
   "outputs": [],
   "source": [
    "df_sub8 = df_sub[df_sub.Oxygen == 8]\n",
    "df_sub8 = df_sub8[[i in df2[df2.Oxygen==8]['Protein.Group'].values for i in df_sub8['Protein.Group'].values]]\n",
    "\n",
    "df_sub21 = df_sub[df_sub.Oxygen == 21]\n",
    "df_sub21 = df_sub21[[i in df2[df2.Oxygen==21]['Protein.Group'].values for i in df_sub21['Protein.Group'].values]]\n",
    "\n",
    "df_sub60 = df_sub[df_sub.Oxygen == 60]\n",
    "df_sub60 = df_sub60[[i in df2[df2.Oxygen==60]['Protein.Group'].values for i in df_sub60['Protein.Group'].values]]"
   ]
  },
  {
   "cell_type": "markdown",
   "id": "generic-knight",
   "metadata": {},
   "source": [
    "Let's count peptides"
   ]
  },
  {
   "cell_type": "code",
   "execution_count": 59,
   "id": "cardiovascular-present",
   "metadata": {},
   "outputs": [],
   "source": [
    "ttct = df_sub_clp.groupby('Protein.Group').count()"
   ]
  },
  {
   "cell_type": "code",
   "execution_count": 60,
   "id": "serial-conversion",
   "metadata": {},
   "outputs": [
    {
     "name": "stdout",
     "output_type": "stream",
     "text": [
      "1909\n",
      "1237\n",
      "1016\n",
      "4162\n"
     ]
    }
   ],
   "source": [
    "print(sum(ttct.values < 3)[0])\n",
    "print(sum(ttct.values <= 5)[0]-sum(ttct.values < 3)[0])\n",
    "print(sum(ttct.values > 5)[0])\n",
    "print(ttct.shape[0])"
   ]
  },
  {
   "cell_type": "code",
   "execution_count": null,
   "id": "207a2087",
   "metadata": {},
   "outputs": [],
   "source": []
  }
 ],
 "metadata": {
  "kernelspec": {
   "display_name": "Python 3 (ipykernel)",
   "language": "python",
   "name": "python3"
  },
  "language_info": {
   "codemirror_mode": {
    "name": "ipython",
    "version": 3
   },
   "file_extension": ".py",
   "mimetype": "text/x-python",
   "name": "python",
   "nbconvert_exporter": "python",
   "pygments_lexer": "ipython3",
   "version": "3.9.5"
  }
 },
 "nbformat": 4,
 "nbformat_minor": 5
}
