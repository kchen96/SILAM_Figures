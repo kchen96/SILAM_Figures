{
 "cells": [
  {
   "cell_type": "code",
   "execution_count": 33,
   "id": "terminal-substitute",
   "metadata": {},
   "outputs": [],
   "source": [
    "import pandas as pd\n",
    "import numpy as np"
   ]
  },
  {
   "cell_type": "markdown",
   "id": "favorite-price",
   "metadata": {},
   "source": [
    "Compile the statistics"
   ]
  },
  {
   "cell_type": "code",
   "execution_count": 34,
   "id": "studied-conclusion",
   "metadata": {},
   "outputs": [],
   "source": [
    "df = pd.read_csv('peptide_fit_MixedLM.csv', index_col = 0)"
   ]
  },
  {
   "cell_type": "code",
   "execution_count": 35,
   "id": "quarterly-slave",
   "metadata": {},
   "outputs": [
    {
     "data": {
      "text/html": [
       "<div>\n",
       "<style scoped>\n",
       "    .dataframe tbody tr th:only-of-type {\n",
       "        vertical-align: middle;\n",
       "    }\n",
       "\n",
       "    .dataframe tbody tr th {\n",
       "        vertical-align: top;\n",
       "    }\n",
       "\n",
       "    .dataframe thead th {\n",
       "        text-align: right;\n",
       "    }\n",
       "</style>\n",
       "<table border=\"1\" class=\"dataframe\">\n",
       "  <thead>\n",
       "    <tr style=\"text-align: right;\">\n",
       "      <th></th>\n",
       "      <th>Genes</th>\n",
       "      <th>Oxy8vs21_Log2FC</th>\n",
       "      <th>Oxy8vs21_pval</th>\n",
       "      <th>Oxy8vs21_FDR</th>\n",
       "      <th>Oxy60vs21_Log2FC</th>\n",
       "      <th>Oxy60vs21_pval</th>\n",
       "      <th>Oxy60vs21_FDR</th>\n",
       "    </tr>\n",
       "    <tr>\n",
       "      <th>Protein.Group</th>\n",
       "      <th></th>\n",
       "      <th></th>\n",
       "      <th></th>\n",
       "      <th></th>\n",
       "      <th></th>\n",
       "      <th></th>\n",
       "      <th></th>\n",
       "    </tr>\n",
       "  </thead>\n",
       "  <tbody>\n",
       "    <tr>\n",
       "      <th>A2A8Z1</th>\n",
       "      <td>OSBPL9</td>\n",
       "      <td>-1.295320</td>\n",
       "      <td>0.269415</td>\n",
       "      <td>0.541527</td>\n",
       "      <td>NaN</td>\n",
       "      <td>NaN</td>\n",
       "      <td>NaN</td>\n",
       "    </tr>\n",
       "    <tr>\n",
       "      <th>A2AAJ9</th>\n",
       "      <td>OBSCN</td>\n",
       "      <td>-0.166322</td>\n",
       "      <td>0.033156</td>\n",
       "      <td>0.157391</td>\n",
       "      <td>-0.043890</td>\n",
       "      <td>0.889802</td>\n",
       "      <td>0.978119</td>\n",
       "    </tr>\n",
       "    <tr>\n",
       "      <th>A2AGT5</th>\n",
       "      <td>CKAP5</td>\n",
       "      <td>0.995426</td>\n",
       "      <td>0.108304</td>\n",
       "      <td>0.332313</td>\n",
       "      <td>NaN</td>\n",
       "      <td>NaN</td>\n",
       "      <td>NaN</td>\n",
       "    </tr>\n",
       "    <tr>\n",
       "      <th>A2AHC3</th>\n",
       "      <td>CAMSAP1</td>\n",
       "      <td>-0.232592</td>\n",
       "      <td>0.721692</td>\n",
       "      <td>0.867666</td>\n",
       "      <td>-0.427154</td>\n",
       "      <td>0.267251</td>\n",
       "      <td>0.625109</td>\n",
       "    </tr>\n",
       "    <tr>\n",
       "      <th>A2AJI0</th>\n",
       "      <td>MAP7D1</td>\n",
       "      <td>0.271811</td>\n",
       "      <td>0.183617</td>\n",
       "      <td>0.447999</td>\n",
       "      <td>-0.132313</td>\n",
       "      <td>0.554692</td>\n",
       "      <td>0.854480</td>\n",
       "    </tr>\n",
       "  </tbody>\n",
       "</table>\n",
       "</div>"
      ],
      "text/plain": [
       "                 Genes  Oxy8vs21_Log2FC  Oxy8vs21_pval  Oxy8vs21_FDR  \\\n",
       "Protein.Group                                                          \n",
       "A2A8Z1          OSBPL9        -1.295320       0.269415      0.541527   \n",
       "A2AAJ9           OBSCN        -0.166322       0.033156      0.157391   \n",
       "A2AGT5           CKAP5         0.995426       0.108304      0.332313   \n",
       "A2AHC3         CAMSAP1        -0.232592       0.721692      0.867666   \n",
       "A2AJI0          MAP7D1         0.271811       0.183617      0.447999   \n",
       "\n",
       "               Oxy60vs21_Log2FC  Oxy60vs21_pval  Oxy60vs21_FDR  \n",
       "Protein.Group                                                   \n",
       "A2A8Z1                      NaN             NaN            NaN  \n",
       "A2AAJ9                -0.043890        0.889802       0.978119  \n",
       "A2AGT5                      NaN             NaN            NaN  \n",
       "A2AHC3                -0.427154        0.267251       0.625109  \n",
       "A2AJI0                -0.132313        0.554692       0.854480  "
      ]
     },
     "execution_count": 35,
     "metadata": {},
     "output_type": "execute_result"
    }
   ],
   "source": [
    "df.head()"
   ]
  },
  {
   "cell_type": "code",
   "execution_count": 36,
   "id": "civil-stretch",
   "metadata": {},
   "outputs": [
    {
     "data": {
      "text/plain": [
       "(2108, 7)"
      ]
     },
     "execution_count": 36,
     "metadata": {},
     "output_type": "execute_result"
    }
   ],
   "source": [
    "df.shape"
   ]
  },
  {
   "cell_type": "code",
   "execution_count": 43,
   "id": "acquired-drama",
   "metadata": {},
   "outputs": [
    {
     "data": {
      "text/plain": [
       "(186, 7)"
      ]
     },
     "execution_count": 43,
     "metadata": {},
     "output_type": "execute_result"
    }
   ],
   "source": [
    "df_sub = df[np.logical_and(df.Oxy8vs21_FDR<0.05, df.Oxy8vs21_Log2FC>0)]\n",
    "df_sub.shape"
   ]
  },
  {
   "cell_type": "code",
   "execution_count": 44,
   "id": "proper-istanbul",
   "metadata": {},
   "outputs": [
    {
     "data": {
      "text/plain": [
       "(30, 7)"
      ]
     },
     "execution_count": 44,
     "metadata": {},
     "output_type": "execute_result"
    }
   ],
   "source": [
    "df_sub = df[np.logical_and(df.Oxy60vs21_FDR<0.05, df.Oxy60vs21_Log2FC>0)]\n",
    "df_sub.shape"
   ]
  },
  {
   "cell_type": "code",
   "execution_count": 45,
   "id": "recorded-dairy",
   "metadata": {},
   "outputs": [],
   "source": [
    "df2 = pd.read_csv('peptide_fit.csv', index_col=0)"
   ]
  },
  {
   "cell_type": "code",
   "execution_count": 46,
   "id": "proper-ottawa",
   "metadata": {},
   "outputs": [
    {
     "data": {
      "text/html": [
       "<div>\n",
       "<style scoped>\n",
       "    .dataframe tbody tr th:only-of-type {\n",
       "        vertical-align: middle;\n",
       "    }\n",
       "\n",
       "    .dataframe tbody tr th {\n",
       "        vertical-align: top;\n",
       "    }\n",
       "\n",
       "    .dataframe thead th {\n",
       "        text-align: right;\n",
       "    }\n",
       "</style>\n",
       "<table border=\"1\" class=\"dataframe\">\n",
       "  <thead>\n",
       "    <tr style=\"text-align: right;\">\n",
       "      <th></th>\n",
       "      <th>Protein.Group</th>\n",
       "      <th>Genes</th>\n",
       "      <th>Oxygen</th>\n",
       "      <th>Kd</th>\n",
       "      <th>Kd_pvalue</th>\n",
       "      <th>Half_life</th>\n",
       "    </tr>\n",
       "  </thead>\n",
       "  <tbody>\n",
       "    <tr>\n",
       "      <th>1</th>\n",
       "      <td>A2A690</td>\n",
       "      <td>TANC2</td>\n",
       "      <td>21</td>\n",
       "      <td>0.067559</td>\n",
       "      <td>1.009979e-03</td>\n",
       "      <td>10.259835</td>\n",
       "    </tr>\n",
       "    <tr>\n",
       "      <th>2</th>\n",
       "      <td>A2A8Z1</td>\n",
       "      <td>OSBPL9</td>\n",
       "      <td>8</td>\n",
       "      <td>0.134929</td>\n",
       "      <td>1.451300e-03</td>\n",
       "      <td>5.137122</td>\n",
       "    </tr>\n",
       "    <tr>\n",
       "      <th>3</th>\n",
       "      <td>A2A8Z1</td>\n",
       "      <td>OSBPL9</td>\n",
       "      <td>21</td>\n",
       "      <td>0.331158</td>\n",
       "      <td>3.071289e-03</td>\n",
       "      <td>2.093098</td>\n",
       "    </tr>\n",
       "    <tr>\n",
       "      <th>4</th>\n",
       "      <td>A2AAJ9</td>\n",
       "      <td>OBSCN</td>\n",
       "      <td>8</td>\n",
       "      <td>0.049183</td>\n",
       "      <td>4.983370e-107</td>\n",
       "      <td>14.093213</td>\n",
       "    </tr>\n",
       "    <tr>\n",
       "      <th>5</th>\n",
       "      <td>A2AAJ9</td>\n",
       "      <td>OBSCN</td>\n",
       "      <td>21</td>\n",
       "      <td>0.055193</td>\n",
       "      <td>2.477132e-234</td>\n",
       "      <td>12.558622</td>\n",
       "    </tr>\n",
       "  </tbody>\n",
       "</table>\n",
       "</div>"
      ],
      "text/plain": [
       "  Protein.Group   Genes  Oxygen        Kd      Kd_pvalue  Half_life\n",
       "1        A2A690   TANC2      21  0.067559   1.009979e-03  10.259835\n",
       "2        A2A8Z1  OSBPL9       8  0.134929   1.451300e-03   5.137122\n",
       "3        A2A8Z1  OSBPL9      21  0.331158   3.071289e-03   2.093098\n",
       "4        A2AAJ9   OBSCN       8  0.049183  4.983370e-107  14.093213\n",
       "5        A2AAJ9   OBSCN      21  0.055193  2.477132e-234  12.558622"
      ]
     },
     "execution_count": 46,
     "metadata": {},
     "output_type": "execute_result"
    }
   ],
   "source": [
    "df2.head()"
   ]
  },
  {
   "cell_type": "code",
   "execution_count": 47,
   "id": "noble-rental",
   "metadata": {},
   "outputs": [
    {
     "name": "stdout",
     "output_type": "stream",
     "text": [
      "(2805,)\n",
      "(2413,)\n",
      "(2249,)\n",
      "(2232,)\n"
     ]
    }
   ],
   "source": [
    "print(df2['Protein.Group'].drop_duplicates().shape)\n",
    "print(df2[df2.Oxygen == 8]['Protein.Group'].drop_duplicates().shape)\n",
    "print(df2[df2.Oxygen == 21]['Protein.Group'].drop_duplicates().shape)\n",
    "print(df2[df2.Oxygen == 60]['Protein.Group'].drop_duplicates().shape)"
   ]
  },
  {
   "cell_type": "code",
   "execution_count": 48,
   "id": "ranging-promotion",
   "metadata": {},
   "outputs": [
    {
     "name": "stdout",
     "output_type": "stream",
     "text": [
      "7.241997122033391\n",
      "6.801918686517298\n",
      "7.488749366774727\n",
      "7.429891554683203\n"
     ]
    }
   ],
   "source": [
    "print(df2['Half_life'].median())\n",
    "print(df2[df2.Oxygen == 8]['Half_life'].median())\n",
    "print(df2[df2.Oxygen == 21]['Half_life'].median())\n",
    "print(df2[df2.Oxygen == 60]['Half_life'].median())"
   ]
  },
  {
   "cell_type": "code",
   "execution_count": 49,
   "id": "portable-skiing",
   "metadata": {},
   "outputs": [],
   "source": [
    "df2_2 = df2.groupby(['Protein.Group','Genes','Oxygen'])['Kd'].mean().to_frame().reset_index().pivot(index = ['Protein.Group','Genes'],\n",
    "                                                                                           columns = 'Oxygen',\n",
    "                                                                                           values = 'Kd')"
   ]
  },
  {
   "cell_type": "code",
   "execution_count": 50,
   "id": "scenic-mandate",
   "metadata": {},
   "outputs": [],
   "source": [
    "df2_2 = df2_2.rename(columns = {8:'Kd_mean_8',\n",
    "                                21: 'Kd_mean_21',\n",
    "                                60:'Kd_mean_60'})"
   ]
  },
  {
   "cell_type": "code",
   "execution_count": 51,
   "id": "inside-martial",
   "metadata": {},
   "outputs": [
    {
     "data": {
      "text/html": [
       "<div>\n",
       "<style scoped>\n",
       "    .dataframe tbody tr th:only-of-type {\n",
       "        vertical-align: middle;\n",
       "    }\n",
       "\n",
       "    .dataframe tbody tr th {\n",
       "        vertical-align: top;\n",
       "    }\n",
       "\n",
       "    .dataframe thead th {\n",
       "        text-align: right;\n",
       "    }\n",
       "</style>\n",
       "<table border=\"1\" class=\"dataframe\">\n",
       "  <thead>\n",
       "    <tr style=\"text-align: right;\">\n",
       "      <th></th>\n",
       "      <th>Oxygen</th>\n",
       "      <th>Kd_mean_8</th>\n",
       "      <th>Kd_mean_21</th>\n",
       "      <th>Kd_mean_60</th>\n",
       "    </tr>\n",
       "    <tr>\n",
       "      <th>Protein.Group</th>\n",
       "      <th>Genes</th>\n",
       "      <th></th>\n",
       "      <th></th>\n",
       "      <th></th>\n",
       "    </tr>\n",
       "  </thead>\n",
       "  <tbody>\n",
       "    <tr>\n",
       "      <th>A2A690</th>\n",
       "      <th>TANC2</th>\n",
       "      <td>NaN</td>\n",
       "      <td>0.067559</td>\n",
       "      <td>NaN</td>\n",
       "    </tr>\n",
       "    <tr>\n",
       "      <th>A2A8Z1</th>\n",
       "      <th>OSBPL9</th>\n",
       "      <td>0.134929</td>\n",
       "      <td>0.331158</td>\n",
       "      <td>NaN</td>\n",
       "    </tr>\n",
       "    <tr>\n",
       "      <th>A2AAJ9</th>\n",
       "      <th>OBSCN</th>\n",
       "      <td>0.049183</td>\n",
       "      <td>0.055193</td>\n",
       "      <td>0.053539</td>\n",
       "    </tr>\n",
       "    <tr>\n",
       "      <th>A2AGT5</th>\n",
       "      <th>CKAP5</th>\n",
       "      <td>0.496754</td>\n",
       "      <td>0.249166</td>\n",
       "      <td>NaN</td>\n",
       "    </tr>\n",
       "    <tr>\n",
       "      <th>A2AHC3</th>\n",
       "      <th>CAMSAP1</th>\n",
       "      <td>0.282712</td>\n",
       "      <td>0.332171</td>\n",
       "      <td>0.247045</td>\n",
       "    </tr>\n",
       "  </tbody>\n",
       "</table>\n",
       "</div>"
      ],
      "text/plain": [
       "Oxygen                 Kd_mean_8  Kd_mean_21  Kd_mean_60\n",
       "Protein.Group Genes                                     \n",
       "A2A690        TANC2          NaN    0.067559         NaN\n",
       "A2A8Z1        OSBPL9    0.134929    0.331158         NaN\n",
       "A2AAJ9        OBSCN     0.049183    0.055193    0.053539\n",
       "A2AGT5        CKAP5     0.496754    0.249166         NaN\n",
       "A2AHC3        CAMSAP1   0.282712    0.332171    0.247045"
      ]
     },
     "execution_count": 51,
     "metadata": {},
     "output_type": "execute_result"
    }
   ],
   "source": [
    "df2_2.head()"
   ]
  },
  {
   "cell_type": "code",
   "execution_count": 52,
   "id": "derived-crossing",
   "metadata": {},
   "outputs": [],
   "source": [
    "df2_2 = pd.merge(df2_2.reset_index(), df.drop(columns = 'Genes'), how='left', left_on='Protein.Group', right_index=True)"
   ]
  },
  {
   "cell_type": "code",
   "execution_count": 53,
   "id": "requested-milton",
   "metadata": {},
   "outputs": [
    {
     "data": {
      "text/html": [
       "<div>\n",
       "<style scoped>\n",
       "    .dataframe tbody tr th:only-of-type {\n",
       "        vertical-align: middle;\n",
       "    }\n",
       "\n",
       "    .dataframe tbody tr th {\n",
       "        vertical-align: top;\n",
       "    }\n",
       "\n",
       "    .dataframe thead th {\n",
       "        text-align: right;\n",
       "    }\n",
       "</style>\n",
       "<table border=\"1\" class=\"dataframe\">\n",
       "  <thead>\n",
       "    <tr style=\"text-align: right;\">\n",
       "      <th></th>\n",
       "      <th>Protein.Group</th>\n",
       "      <th>Genes</th>\n",
       "      <th>Kd_mean_8</th>\n",
       "      <th>Kd_mean_21</th>\n",
       "      <th>Kd_mean_60</th>\n",
       "      <th>Oxy8vs21_Log2FC</th>\n",
       "      <th>Oxy8vs21_pval</th>\n",
       "      <th>Oxy8vs21_FDR</th>\n",
       "      <th>Oxy60vs21_Log2FC</th>\n",
       "      <th>Oxy60vs21_pval</th>\n",
       "      <th>Oxy60vs21_FDR</th>\n",
       "    </tr>\n",
       "  </thead>\n",
       "  <tbody>\n",
       "    <tr>\n",
       "      <th>0</th>\n",
       "      <td>A2A690</td>\n",
       "      <td>TANC2</td>\n",
       "      <td>NaN</td>\n",
       "      <td>0.067559</td>\n",
       "      <td>NaN</td>\n",
       "      <td>NaN</td>\n",
       "      <td>NaN</td>\n",
       "      <td>NaN</td>\n",
       "      <td>NaN</td>\n",
       "      <td>NaN</td>\n",
       "      <td>NaN</td>\n",
       "    </tr>\n",
       "    <tr>\n",
       "      <th>1</th>\n",
       "      <td>A2A8Z1</td>\n",
       "      <td>OSBPL9</td>\n",
       "      <td>0.134929</td>\n",
       "      <td>0.331158</td>\n",
       "      <td>NaN</td>\n",
       "      <td>-1.295320</td>\n",
       "      <td>0.269415</td>\n",
       "      <td>0.541527</td>\n",
       "      <td>NaN</td>\n",
       "      <td>NaN</td>\n",
       "      <td>NaN</td>\n",
       "    </tr>\n",
       "    <tr>\n",
       "      <th>2</th>\n",
       "      <td>A2AAJ9</td>\n",
       "      <td>OBSCN</td>\n",
       "      <td>0.049183</td>\n",
       "      <td>0.055193</td>\n",
       "      <td>0.053539</td>\n",
       "      <td>-0.166322</td>\n",
       "      <td>0.033156</td>\n",
       "      <td>0.157391</td>\n",
       "      <td>-0.043890</td>\n",
       "      <td>0.889802</td>\n",
       "      <td>0.978119</td>\n",
       "    </tr>\n",
       "    <tr>\n",
       "      <th>3</th>\n",
       "      <td>A2AGT5</td>\n",
       "      <td>CKAP5</td>\n",
       "      <td>0.496754</td>\n",
       "      <td>0.249166</td>\n",
       "      <td>NaN</td>\n",
       "      <td>0.995426</td>\n",
       "      <td>0.108304</td>\n",
       "      <td>0.332313</td>\n",
       "      <td>NaN</td>\n",
       "      <td>NaN</td>\n",
       "      <td>NaN</td>\n",
       "    </tr>\n",
       "    <tr>\n",
       "      <th>4</th>\n",
       "      <td>A2AHC3</td>\n",
       "      <td>CAMSAP1</td>\n",
       "      <td>0.282712</td>\n",
       "      <td>0.332171</td>\n",
       "      <td>0.247045</td>\n",
       "      <td>-0.232592</td>\n",
       "      <td>0.721692</td>\n",
       "      <td>0.867666</td>\n",
       "      <td>-0.427154</td>\n",
       "      <td>0.267251</td>\n",
       "      <td>0.625109</td>\n",
       "    </tr>\n",
       "  </tbody>\n",
       "</table>\n",
       "</div>"
      ],
      "text/plain": [
       "  Protein.Group    Genes  Kd_mean_8  Kd_mean_21  Kd_mean_60  Oxy8vs21_Log2FC  \\\n",
       "0        A2A690    TANC2        NaN    0.067559         NaN              NaN   \n",
       "1        A2A8Z1   OSBPL9   0.134929    0.331158         NaN        -1.295320   \n",
       "2        A2AAJ9    OBSCN   0.049183    0.055193    0.053539        -0.166322   \n",
       "3        A2AGT5    CKAP5   0.496754    0.249166         NaN         0.995426   \n",
       "4        A2AHC3  CAMSAP1   0.282712    0.332171    0.247045        -0.232592   \n",
       "\n",
       "   Oxy8vs21_pval  Oxy8vs21_FDR  Oxy60vs21_Log2FC  Oxy60vs21_pval  \\\n",
       "0            NaN           NaN               NaN             NaN   \n",
       "1       0.269415      0.541527               NaN             NaN   \n",
       "2       0.033156      0.157391         -0.043890        0.889802   \n",
       "3       0.108304      0.332313               NaN             NaN   \n",
       "4       0.721692      0.867666         -0.427154        0.267251   \n",
       "\n",
       "   Oxy60vs21_FDR  \n",
       "0            NaN  \n",
       "1            NaN  \n",
       "2       0.978119  \n",
       "3            NaN  \n",
       "4       0.625109  "
      ]
     },
     "execution_count": 53,
     "metadata": {},
     "output_type": "execute_result"
    }
   ],
   "source": [
    "df2_2.head()"
   ]
  },
  {
   "cell_type": "code",
   "execution_count": 54,
   "id": "technological-period",
   "metadata": {},
   "outputs": [],
   "source": [
    "df2_2.set_index('Protein.Group').to_csv('Peptide_fit_statistics.csv')"
   ]
  },
  {
   "cell_type": "markdown",
   "id": "answering-theology",
   "metadata": {},
   "source": [
    "## Coverage"
   ]
  },
  {
   "cell_type": "markdown",
   "id": "interracial-hudson",
   "metadata": {},
   "source": [
    "Peptide"
   ]
  },
  {
   "cell_type": "code",
   "execution_count": 55,
   "id": "tested-christianity",
   "metadata": {},
   "outputs": [],
   "source": [
    "df3 = pd.read_csv('peptide_level.csv', index_col =0)"
   ]
  },
  {
   "cell_type": "code",
   "execution_count": 56,
   "id": "statutory-reflection",
   "metadata": {},
   "outputs": [],
   "source": [
    "df3 = df3.dropna()"
   ]
  },
  {
   "cell_type": "code",
   "execution_count": 57,
   "id": "local-lunch",
   "metadata": {},
   "outputs": [
    {
     "data": {
      "text/plain": [
       "(26652,)"
      ]
     },
     "execution_count": 57,
     "metadata": {},
     "output_type": "execute_result"
    }
   ],
   "source": [
    "df3['Modified.Sequence'].drop_duplicates().shape"
   ]
  },
  {
   "cell_type": "code",
   "execution_count": 58,
   "id": "adequate-warrant",
   "metadata": {},
   "outputs": [
    {
     "name": "stdout",
     "output_type": "stream",
     "text": [
      "(26393,)\n",
      "(26563,)\n",
      "(26390,)\n"
     ]
    }
   ],
   "source": [
    "print(df3[df3.Oxygen == 8]['Modified.Sequence'].drop_duplicates().shape)\n",
    "print(df3[df3.Oxygen == 21]['Modified.Sequence'].drop_duplicates().shape)\n",
    "print(df3[df3.Oxygen == 60]['Modified.Sequence'].drop_duplicates().shape)"
   ]
  },
  {
   "cell_type": "markdown",
   "id": "permanent-means",
   "metadata": {},
   "source": [
    "Peptide and protein (filtered)"
   ]
  },
  {
   "cell_type": "code",
   "execution_count": 59,
   "id": "identified-ballot",
   "metadata": {},
   "outputs": [],
   "source": [
    "df4 = pd.read_csv('peptide_level_filtered.csv', index_col = 0)"
   ]
  },
  {
   "cell_type": "code",
   "execution_count": 60,
   "id": "nasty-madagascar",
   "metadata": {},
   "outputs": [
    {
     "data": {
      "text/plain": [
       "(14737,)"
      ]
     },
     "execution_count": 60,
     "metadata": {},
     "output_type": "execute_result"
    }
   ],
   "source": [
    "df4['Modified.Sequence'].drop_duplicates().shape"
   ]
  },
  {
   "cell_type": "code",
   "execution_count": 61,
   "id": "outside-external",
   "metadata": {},
   "outputs": [
    {
     "name": "stdout",
     "output_type": "stream",
     "text": [
      "(10806,)\n",
      "(8945,)\n",
      "(9316,)\n"
     ]
    }
   ],
   "source": [
    "print(df4[df4.Oxygen == 8]['Modified.Sequence'].drop_duplicates().shape)\n",
    "print(df4[df4.Oxygen == 21]['Modified.Sequence'].drop_duplicates().shape)\n",
    "print(df4[df4.Oxygen == 60]['Modified.Sequence'].drop_duplicates().shape)"
   ]
  },
  {
   "cell_type": "code",
   "execution_count": 62,
   "id": "engaged-recycling",
   "metadata": {},
   "outputs": [
    {
     "name": "stdout",
     "output_type": "stream",
     "text": [
      "(2849,)\n",
      "(2466,)\n",
      "(2285,)\n",
      "(2293,)\n"
     ]
    }
   ],
   "source": [
    "print(df4['Protein.Group'].drop_duplicates().shape)\n",
    "print(df4[df4.Oxygen == 8]['Protein.Group'].drop_duplicates().shape)\n",
    "print(df4[df4.Oxygen == 21]['Protein.Group'].drop_duplicates().shape)\n",
    "print(df4[df4.Oxygen == 60]['Protein.Group'].drop_duplicates().shape)"
   ]
  },
  {
   "cell_type": "code",
   "execution_count": null,
   "id": "optical-ferry",
   "metadata": {},
   "outputs": [],
   "source": []
  }
 ],
 "metadata": {
  "kernelspec": {
   "display_name": "Python 3",
   "language": "python",
   "name": "python3"
  },
  "language_info": {
   "codemirror_mode": {
    "name": "ipython",
    "version": 3
   },
   "file_extension": ".py",
   "mimetype": "text/x-python",
   "name": "python",
   "nbconvert_exporter": "python",
   "pygments_lexer": "ipython3",
   "version": "3.8.5"
  }
 },
 "nbformat": 4,
 "nbformat_minor": 5
}
