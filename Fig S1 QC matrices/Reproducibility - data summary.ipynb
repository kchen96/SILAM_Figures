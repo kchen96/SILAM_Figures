{
 "cells": [
  {
   "cell_type": "code",
   "execution_count": 1,
   "id": "chief-construction",
   "metadata": {},
   "outputs": [],
   "source": [
    "import pandas as pd\n",
    "import numpy as np\n",
    "import os\n"
   ]
  },
  {
   "cell_type": "code",
   "execution_count": 16,
   "id": "integrated-passport",
   "metadata": {},
   "outputs": [],
   "source": [
    "path = './Reproducibility Correlation Matrix/Lung'\n"
   ]
  },
  {
   "cell_type": "code",
   "execution_count": 17,
   "id": "verified-tuning",
   "metadata": {},
   "outputs": [],
   "source": [
    "unique_numbers = []"
   ]
  },
  {
   "cell_type": "markdown",
   "id": "critical-significance",
   "metadata": {},
   "source": [
    "Loop through all the CSV files in the folder, read them using Pandas, set the first column as the header, and the first row as the index. Then, extract all the unique numbers less than one and append them to the unique_numbers list:"
   ]
  },
  {
   "cell_type": "code",
   "execution_count": 18,
   "id": "opened-viking",
   "metadata": {},
   "outputs": [],
   "source": [
    "for file in os.listdir(path):\n",
    "    if file.endswith('.csv'):\n",
    "        df = pd.read_csv(os.path.join(path, file), index_col=0, header=None)\n",
    "        df.index.name = df.iloc[0,0]\n",
    "        df = df.iloc[1:,1:]\n",
    "        unique_numbers.extend(list(np.unique(df[df < 1].values)))\n"
   ]
  },
  {
   "cell_type": "code",
   "execution_count": 19,
   "id": "monetary-antenna",
   "metadata": {},
   "outputs": [],
   "source": [
    "unique_numbers = np.array(unique_numbers)\n",
    "unique_numbers = unique_numbers[~np.isnan(unique_numbers)]"
   ]
  },
  {
   "cell_type": "code",
   "execution_count": 20,
   "id": "revolutionary-revision",
   "metadata": {},
   "outputs": [
    {
     "data": {
      "text/plain": [
       "715"
      ]
     },
     "execution_count": 20,
     "metadata": {},
     "output_type": "execute_result"
    }
   ],
   "source": [
    "all_numbers = np.append(all_numbers,unique_numbers)\n",
    "len(all_numbers)"
   ]
  },
  {
   "cell_type": "code",
   "execution_count": 21,
   "id": "reduced-headset",
   "metadata": {},
   "outputs": [
    {
     "name": "stdout",
     "output_type": "stream",
     "text": [
      "0.985104824957145\n",
      "0.7273833777374005\n",
      "0.9463129044456308\n"
     ]
    }
   ],
   "source": [
    "print(np.max(unique_numbers))\n",
    "print(np.min(unique_numbers))\n",
    "print(np.median(unique_numbers))"
   ]
  },
  {
   "cell_type": "code",
   "execution_count": null,
   "id": "verified-still",
   "metadata": {},
   "outputs": [],
   "source": []
  }
 ],
 "metadata": {
  "kernelspec": {
   "display_name": "Python 3",
   "language": "python",
   "name": "python3"
  },
  "language_info": {
   "codemirror_mode": {
    "name": "ipython",
    "version": 3
   },
   "file_extension": ".py",
   "mimetype": "text/x-python",
   "name": "python",
   "nbconvert_exporter": "python",
   "pygments_lexer": "ipython3",
   "version": "3.8.5"
  }
 },
 "nbformat": 4,
 "nbformat_minor": 5
}
